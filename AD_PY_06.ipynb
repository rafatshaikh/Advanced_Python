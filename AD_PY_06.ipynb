{
 "cells": [
  {
   "cell_type": "code",
   "execution_count": null,
   "metadata": {},
   "outputs": [],
   "source": [
    "continuation of implementation of iteration"
   ]
  },
  {
   "cell_type": "code",
   "execution_count": null,
   "metadata": {},
   "outputs": [],
   "source": []
  },
  {
   "cell_type": "code",
   "execution_count": 1,
   "metadata": {},
   "outputs": [],
   "source": [
    "import numpy as np"
   ]
  },
  {
   "cell_type": "code",
   "execution_count": 2,
   "metadata": {},
   "outputs": [
    {
     "data": {
      "text/plain": [
       "array([['rafat', 'azmat', 'nuzat', 'munira'],\n",
       "       ['65', '78', '89', '57'],\n",
       "       ['54', '89', '90', '67']], dtype='<U6')"
      ]
     },
     "execution_count": 2,
     "metadata": {},
     "output_type": "execute_result"
    }
   ],
   "source": [
    "#2D array\n",
    "\n",
    "students = np.array([['rafat','azmat','nuzat','munira'],[65,78,89,57],[54,89,90,67]])\n",
    "students"
   ]
  },
  {
   "cell_type": "code",
   "execution_count": null,
   "metadata": {},
   "outputs": [],
   "source": [
    "Each iteration will be over the rows of the arrays:"
   ]
  },
  {
   "cell_type": "code",
   "execution_count": 13,
   "metadata": {},
   "outputs": [
    {
     "name": "stdout",
     "output_type": "stream",
     "text": [
      "i= ['rafat' 'azmat' 'nuzat' 'munira']\n",
      "i= ['65' '78' '89' '57']\n",
      "i= ['54' '89' '90' '67']\n"
     ]
    }
   ],
   "source": [
    "for i in students:\n",
    "    print('i=', i)"
   ]
  },
  {
   "cell_type": "code",
   "execution_count": null,
   "metadata": {},
   "outputs": [],
   "source": []
  },
  {
   "cell_type": "code",
   "execution_count": null,
   "metadata": {},
   "outputs": [],
   "source": [
    "#Flattening of arrays..."
   ]
  },
  {
   "cell_type": "code",
   "execution_count": null,
   "metadata": {},
   "outputs": [],
   "source": [
    "#req : To print all the elements out of the array separately.For this there are 2 methods as rows and  columns "
   ]
  },
  {
   "cell_type": "code",
   "execution_count": 14,
   "metadata": {},
   "outputs": [
    {
     "name": "stdout",
     "output_type": "stream",
     "text": [
      "rafat\n",
      "azmat\n",
      "nuzat\n",
      "munira\n",
      "65\n",
      "78\n",
      "89\n",
      "57\n",
      "54\n",
      "89\n",
      "90\n",
      "67\n"
     ]
    }
   ],
   "source": [
    "for elements in students.flatten():    #row based operation \n",
    "    print(elements)"
   ]
  },
  {
   "cell_type": "code",
   "execution_count": 15,
   "metadata": {},
   "outputs": [
    {
     "name": "stdout",
     "output_type": "stream",
     "text": [
      "rafat\n",
      "65\n",
      "54\n",
      "azmat\n",
      "78\n",
      "89\n",
      "nuzat\n",
      "89\n",
      "90\n",
      "munira\n",
      "57\n",
      "67\n"
     ]
    }
   ],
   "source": [
    "for element in students.flatten(order='F'):    #column based operation for flattening\n",
    "    print(element)"
   ]
  },
  {
   "cell_type": "code",
   "execution_count": 17,
   "metadata": {},
   "outputs": [
    {
     "name": "stdout",
     "output_type": "stream",
     "text": [
      "rafat\n",
      "azmat\n",
      "nuzat\n",
      "munira\n",
      "65\n",
      "78\n",
      "89\n",
      "57\n",
      "54\n",
      "89\n",
      "90\n",
      "67\n"
     ]
    }
   ],
   "source": [
    "for i in np.nditer(students):   #alternate approach .....nditer...row based operation\n",
    "    print(i)"
   ]
  },
  {
   "cell_type": "code",
   "execution_count": null,
   "metadata": {},
   "outputs": [],
   "source": []
  }
 ],
 "metadata": {
  "kernelspec": {
   "display_name": "Python 3",
   "language": "python",
   "name": "python3"
  },
  "language_info": {
   "codemirror_mode": {
    "name": "ipython",
    "version": 3
   },
   "file_extension": ".py",
   "mimetype": "text/x-python",
   "name": "python",
   "nbconvert_exporter": "python",
   "pygments_lexer": "ipython3",
   "version": "3.7.6"
  }
 },
 "nbformat": 4,
 "nbformat_minor": 4
}
